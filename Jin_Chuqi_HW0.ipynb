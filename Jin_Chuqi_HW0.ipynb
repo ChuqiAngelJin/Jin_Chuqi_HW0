{
 "cells": [
  {
   "cell_type": "markdown",
   "id": "006ccb98-a2c9-48fe-83c2-f120fb3c0be8",
   "metadata": {},
   "source": [
    "**Name**: Chuqi(Angel) Jin\n",
    "**GitHub Username**: ChuqiAngelJin\n",
    "**USC ID**: 9740-1051-51"
   ]
  },
  {
   "cell_type": "code",
   "execution_count": 4,
   "id": "8b98abee-1358-4b9c-a57f-371b2db91bfa",
   "metadata": {},
   "outputs": [
    {
     "name": "stdout",
     "output_type": "stream",
     "text": [
      "Requirement already satisfied: pandas in c:\\users\\diana\\apython\\miniconda3\\lib\\site-packages (2.2.2)\n",
      "Requirement already satisfied: numpy in c:\\users\\diana\\apython\\miniconda3\\lib\\site-packages (2.0.1)\n",
      "Requirement already satisfied: python-dateutil>=2.8.2 in c:\\users\\diana\\apython\\miniconda3\\lib\\site-packages (from pandas) (2.9.0.post0)\n",
      "Requirement already satisfied: pytz>=2020.1 in c:\\users\\diana\\apython\\miniconda3\\lib\\site-packages (from pandas) (2024.1)\n",
      "Requirement already satisfied: tzdata>=2022.7 in c:\\users\\diana\\apython\\miniconda3\\lib\\site-packages (from pandas) (2024.1)\n",
      "Requirement already satisfied: six>=1.5 in c:\\users\\diana\\apython\\miniconda3\\lib\\site-packages (from python-dateutil>=2.8.2->pandas) (1.16.0)\n"
     ]
    }
   ],
   "source": [
    "!pip install pandas numpy"
   ]
  },
  {
   "cell_type": "code",
   "execution_count": 6,
   "id": "481c9df8-edec-4e41-8914-b712839562b3",
   "metadata": {},
   "outputs": [],
   "source": [
    "import pandas as pd\n",
    "import numpy as np"
   ]
  },
  {
   "cell_type": "markdown",
   "id": "1e49afb3-1779-43bd-a2c4-68557cd6b8ca",
   "metadata": {},
   "source": [
    "**2(a)(b)(c)** Read in the datafile"
   ]
  },
  {
   "cell_type": "code",
   "execution_count": 8,
   "id": "aac16736-8060-4a7c-bd6e-b84421a98b79",
   "metadata": {},
   "outputs": [
    {
     "name": "stdout",
     "output_type": "stream",
     "text": [
      "           yearID teamID lgID    salary\n",
      "playerID                               \n",
      "bedrost01    1985    ATL   NL    550000\n",
      "benedbr01    1985    ATL   NL    545000\n",
      "campri01     1985    ATL   NL    633333\n",
      "ceronri01    1985    ATL   NL    625000\n",
      "chambch01    1985    ATL   NL    800000\n",
      "...           ...    ...  ...       ...\n",
      "treinbl01    2015    WAS   NL    512800\n",
      "ugglada01    2015    WAS   NL    507500\n",
      "werthja01    2015    WAS   NL  21000000\n",
      "zimmejo02    2015    WAS   NL  16500000\n",
      "zimmery01    2015    WAS   NL  14000000\n",
      "\n",
      "[25574 rows x 4 columns]\n"
     ]
    }
   ],
   "source": [
    "salaries_data = pd.read_csv('Salaries.csv', index_col='playerID', header=0, skiprows=[1])\n",
    "print(salaries_data)"
   ]
  },
  {
   "cell_type": "markdown",
   "id": "1987cd9a-f861-4aba-8c62-2c67840ffa44",
   "metadata": {},
   "source": [
    "**4(d)** Select required players"
   ]
  },
  {
   "cell_type": "code",
   "execution_count": 9,
   "id": "616dad53-f1fc-4695-b6cc-95ae81c4e27a",
   "metadata": {},
   "outputs": [
    {
     "data": {
      "text/plain": [
       "Index(['hornebo01', 'murphda05', 'suttebr01', 'ryanno01', 'hornebo01',\n",
       "       'murphda05', 'suttebr01', 'ryanno01', 'griffke01', 'murphda05',\n",
       "       ...\n",
       "       'feldmsc01', 'gonzama01', 'gregelu01', 'lowrije01', 'neshepa01',\n",
       "       'quallch01', 'rasmuco01', 'singljo02', 'sippto01', 'valbulu01'],\n",
       "      dtype='object', name='playerID', length=595)"
      ]
     },
     "execution_count": 9,
     "metadata": {},
     "output_type": "execute_result"
    }
   ],
   "source": [
    "salaries_data[(salaries_data['teamID'].isin(['ATL','HOU'])) & (salaries_data['salary']>1000000)].index"
   ]
  },
  {
   "cell_type": "markdown",
   "id": "00676cad-4f42-4a0f-a3be-f45f22642e7c",
   "metadata": {},
   "source": [
    "**4(e)** Use the describe() method"
   ]
  },
  {
   "cell_type": "code",
   "execution_count": 10,
   "id": "4e9a6eeb-11f7-4aa1-8ad1-6c1441648698",
   "metadata": {},
   "outputs": [
    {
     "data": {
      "text/plain": [
       "count    8.850000e+02\n",
       "mean     2.207749e+06\n",
       "std      3.434320e+06\n",
       "min      6.000000e+04\n",
       "25%      3.000000e+05\n",
       "50%      6.000000e+05\n",
       "75%      2.400000e+06\n",
       "max      1.606180e+07\n",
       "Name: salary, dtype: float64"
      ]
     },
     "execution_count": 10,
     "metadata": {},
     "output_type": "execute_result"
    }
   ],
   "source": [
    "salaries_data[salaries_data['teamID']=='ATL']['salary'].describe()"
   ]
  },
  {
   "cell_type": "markdown",
   "id": "63e28e63-5535-485c-a3ba-d2e185bf3a4b",
   "metadata": {},
   "source": [
    "**4(f)** Create a Python dictionary object"
   ]
  },
  {
   "cell_type": "code",
   "execution_count": 23,
   "id": "74e172a4-e4f8-4202-9685-3edfca5e0aa0",
   "metadata": {},
   "outputs": [
    {
     "data": {
      "text/html": [
       "<div>\n",
       "<style scoped>\n",
       "    .dataframe tbody tr th:only-of-type {\n",
       "        vertical-align: middle;\n",
       "    }\n",
       "\n",
       "    .dataframe tbody tr th {\n",
       "        vertical-align: top;\n",
       "    }\n",
       "\n",
       "    .dataframe thead th {\n",
       "        text-align: right;\n",
       "    }\n",
       "</style>\n",
       "<table border=\"1\" class=\"dataframe\">\n",
       "  <thead>\n",
       "    <tr style=\"text-align: right;\">\n",
       "      <th></th>\n",
       "      <th>yearID</th>\n",
       "      <th>teamID</th>\n",
       "      <th>lgID</th>\n",
       "      <th>salary</th>\n",
       "    </tr>\n",
       "  </thead>\n",
       "  <tbody>\n",
       "    <tr>\n",
       "      <th>bedrost01</th>\n",
       "      <td>1995</td>\n",
       "      <td>ATL</td>\n",
       "      <td>NL</td>\n",
       "      <td>750000</td>\n",
       "    </tr>\n",
       "    <tr>\n",
       "      <th>benedbr01</th>\n",
       "      <td>1989</td>\n",
       "      <td>ATL</td>\n",
       "      <td>NL</td>\n",
       "      <td>395000</td>\n",
       "    </tr>\n",
       "    <tr>\n",
       "      <th>campri01</th>\n",
       "      <td>1986</td>\n",
       "      <td>ATL</td>\n",
       "      <td>NL</td>\n",
       "      <td>600000</td>\n",
       "    </tr>\n",
       "    <tr>\n",
       "      <th>ceronri01</th>\n",
       "      <td>1992</td>\n",
       "      <td>MON</td>\n",
       "      <td>NL</td>\n",
       "      <td>230000</td>\n",
       "    </tr>\n",
       "    <tr>\n",
       "      <th>chambch01</th>\n",
       "      <td>1986</td>\n",
       "      <td>ATL</td>\n",
       "      <td>NL</td>\n",
       "      <td>769452</td>\n",
       "    </tr>\n",
       "    <tr>\n",
       "      <th>...</th>\n",
       "      <td>...</td>\n",
       "      <td>...</td>\n",
       "      <td>...</td>\n",
       "      <td>...</td>\n",
       "    </tr>\n",
       "    <tr>\n",
       "      <th>barreaa01</th>\n",
       "      <td>2015</td>\n",
       "      <td>WAS</td>\n",
       "      <td>NL</td>\n",
       "      <td>514200</td>\n",
       "    </tr>\n",
       "    <tr>\n",
       "      <th>dendema01</th>\n",
       "      <td>2015</td>\n",
       "      <td>WAS</td>\n",
       "      <td>NL</td>\n",
       "      <td>512972</td>\n",
       "    </tr>\n",
       "    <tr>\n",
       "      <th>robincl01</th>\n",
       "      <td>2015</td>\n",
       "      <td>WAS</td>\n",
       "      <td>NL</td>\n",
       "      <td>525000</td>\n",
       "    </tr>\n",
       "    <tr>\n",
       "      <th>taylomi02</th>\n",
       "      <td>2015</td>\n",
       "      <td>WAS</td>\n",
       "      <td>NL</td>\n",
       "      <td>508700</td>\n",
       "    </tr>\n",
       "    <tr>\n",
       "      <th>treinbl01</th>\n",
       "      <td>2015</td>\n",
       "      <td>WAS</td>\n",
       "      <td>NL</td>\n",
       "      <td>512800</td>\n",
       "    </tr>\n",
       "  </tbody>\n",
       "</table>\n",
       "<p>4963 rows × 4 columns</p>\n",
       "</div>"
      ],
      "text/plain": [
       "           yearID teamID lgID  salary\n",
       "bedrost01    1995    ATL   NL  750000\n",
       "benedbr01    1989    ATL   NL  395000\n",
       "campri01     1986    ATL   NL  600000\n",
       "ceronri01    1992    MON   NL  230000\n",
       "chambch01    1986    ATL   NL  769452\n",
       "...           ...    ...  ...     ...\n",
       "barreaa01    2015    WAS   NL  514200\n",
       "dendema01    2015    WAS   NL  512972\n",
       "robincl01    2015    WAS   NL  525000\n",
       "taylomi02    2015    WAS   NL  508700\n",
       "treinbl01    2015    WAS   NL  512800\n",
       "\n",
       "[4963 rows x 4 columns]"
      ]
     },
     "execution_count": 23,
     "metadata": {},
     "output_type": "execute_result"
    }
   ],
   "source": [
    "my_dict = {'playerID':[],'yearID':[], 'teamID':[], 'lgID':[], 'salary':[]} \n",
    "                  \n",
    "for row in salaries_data.iterrows():\n",
    "    my_dict['playerID'].append(row[0])\n",
    "    my_dict['teamID'].append(row[1].teamID)\n",
    "    my_dict['yearID'].append(row[1].yearID)\n",
    "    my_dict['lgID'].append(row[1].lgID)\n",
    "    my_dict['salary'].append(row[1].salary)\n",
    "\n",
    "#print(my_dict)\n",
    "pd.DataFrame(salaries_data.to_dict())"
   ]
  },
  {
   "cell_type": "markdown",
   "id": "8f695092-10a3-4190-a389-5ed161a8d559",
   "metadata": {},
   "source": [
    "**4(g)**: Create the dataframe and change the header"
   ]
  },
  {
   "cell_type": "code",
   "execution_count": 24,
   "id": "72f794fd-3999-4964-b10f-ccce10c660b3",
   "metadata": {},
   "outputs": [
    {
     "data": {
      "text/html": [
       "<div>\n",
       "<style scoped>\n",
       "    .dataframe tbody tr th:only-of-type {\n",
       "        vertical-align: middle;\n",
       "    }\n",
       "\n",
       "    .dataframe tbody tr th {\n",
       "        vertical-align: top;\n",
       "    }\n",
       "\n",
       "    .dataframe thead th {\n",
       "        text-align: right;\n",
       "    }\n",
       "</style>\n",
       "<table border=\"1\" class=\"dataframe\">\n",
       "  <thead>\n",
       "    <tr style=\"text-align: right;\">\n",
       "      <th></th>\n",
       "      <th>a</th>\n",
       "      <th>b</th>\n",
       "      <th>c</th>\n",
       "      <th>d</th>\n",
       "      <th>e</th>\n",
       "    </tr>\n",
       "  </thead>\n",
       "  <tbody>\n",
       "    <tr>\n",
       "      <th>0</th>\n",
       "      <td>bedrost01</td>\n",
       "      <td>1985</td>\n",
       "      <td>ATL</td>\n",
       "      <td>NL</td>\n",
       "      <td>550000</td>\n",
       "    </tr>\n",
       "    <tr>\n",
       "      <th>1</th>\n",
       "      <td>benedbr01</td>\n",
       "      <td>1985</td>\n",
       "      <td>ATL</td>\n",
       "      <td>NL</td>\n",
       "      <td>545000</td>\n",
       "    </tr>\n",
       "    <tr>\n",
       "      <th>2</th>\n",
       "      <td>campri01</td>\n",
       "      <td>1985</td>\n",
       "      <td>ATL</td>\n",
       "      <td>NL</td>\n",
       "      <td>633333</td>\n",
       "    </tr>\n",
       "    <tr>\n",
       "      <th>3</th>\n",
       "      <td>ceronri01</td>\n",
       "      <td>1985</td>\n",
       "      <td>ATL</td>\n",
       "      <td>NL</td>\n",
       "      <td>625000</td>\n",
       "    </tr>\n",
       "    <tr>\n",
       "      <th>4</th>\n",
       "      <td>chambch01</td>\n",
       "      <td>1985</td>\n",
       "      <td>ATL</td>\n",
       "      <td>NL</td>\n",
       "      <td>800000</td>\n",
       "    </tr>\n",
       "    <tr>\n",
       "      <th>...</th>\n",
       "      <td>...</td>\n",
       "      <td>...</td>\n",
       "      <td>...</td>\n",
       "      <td>...</td>\n",
       "      <td>...</td>\n",
       "    </tr>\n",
       "    <tr>\n",
       "      <th>25569</th>\n",
       "      <td>treinbl01</td>\n",
       "      <td>2015</td>\n",
       "      <td>WAS</td>\n",
       "      <td>NL</td>\n",
       "      <td>512800</td>\n",
       "    </tr>\n",
       "    <tr>\n",
       "      <th>25570</th>\n",
       "      <td>ugglada01</td>\n",
       "      <td>2015</td>\n",
       "      <td>WAS</td>\n",
       "      <td>NL</td>\n",
       "      <td>507500</td>\n",
       "    </tr>\n",
       "    <tr>\n",
       "      <th>25571</th>\n",
       "      <td>werthja01</td>\n",
       "      <td>2015</td>\n",
       "      <td>WAS</td>\n",
       "      <td>NL</td>\n",
       "      <td>21000000</td>\n",
       "    </tr>\n",
       "    <tr>\n",
       "      <th>25572</th>\n",
       "      <td>zimmejo02</td>\n",
       "      <td>2015</td>\n",
       "      <td>WAS</td>\n",
       "      <td>NL</td>\n",
       "      <td>16500000</td>\n",
       "    </tr>\n",
       "    <tr>\n",
       "      <th>25573</th>\n",
       "      <td>zimmery01</td>\n",
       "      <td>2015</td>\n",
       "      <td>WAS</td>\n",
       "      <td>NL</td>\n",
       "      <td>14000000</td>\n",
       "    </tr>\n",
       "  </tbody>\n",
       "</table>\n",
       "<p>25574 rows × 5 columns</p>\n",
       "</div>"
      ],
      "text/plain": [
       "               a     b    c   d         e\n",
       "0      bedrost01  1985  ATL  NL    550000\n",
       "1      benedbr01  1985  ATL  NL    545000\n",
       "2       campri01  1985  ATL  NL    633333\n",
       "3      ceronri01  1985  ATL  NL    625000\n",
       "4      chambch01  1985  ATL  NL    800000\n",
       "...          ...   ...  ...  ..       ...\n",
       "25569  treinbl01  2015  WAS  NL    512800\n",
       "25570  ugglada01  2015  WAS  NL    507500\n",
       "25571  werthja01  2015  WAS  NL  21000000\n",
       "25572  zimmejo02  2015  WAS  NL  16500000\n",
       "25573  zimmery01  2015  WAS  NL  14000000\n",
       "\n",
       "[25574 rows x 5 columns]"
      ]
     },
     "execution_count": 24,
     "metadata": {},
     "output_type": "execute_result"
    }
   ],
   "source": [
    "df = pd.DataFrame(data=my_dict)\n",
    "#df\n",
    "new_col = {'playerID': 'a', 'yearID': 'b', 'teamID': 'c', 'lgID':'d', 'salary':'e'}\n",
    "df.rename(columns=new_col, inplace=True)\n",
    "df"
   ]
  },
  {
   "cell_type": "markdown",
   "id": "886794bd-2f2c-45e1-8507-c98ee49a5dfc",
   "metadata": {},
   "source": [
    "**Question 5**"
   ]
  },
  {
   "cell_type": "markdown",
   "id": "2aba9377-e83f-4312-8fd9-9640a70c3267",
   "metadata": {},
   "source": [
    "**5(a)** create 2-dimensional python list object and convert to Numpy array object"
   ]
  },
  {
   "cell_type": "code",
   "execution_count": 28,
   "id": "0e127a44-5b2a-4f90-a897-e3f409ec8e8d",
   "metadata": {},
   "outputs": [
    {
     "data": {
      "text/plain": [
       "array([[4, 8, 7],\n",
       "       [6, 5, 3],\n",
       "       [2, 9, 1]])"
      ]
     },
     "execution_count": 28,
     "metadata": {},
     "output_type": "execute_result"
    }
   ],
   "source": [
    "list_obj = [[4, 8, 7],[6, 5, 3],[2, 9, 1]]\n",
    "array_obj = np.array(list_obj)\n",
    "array_obj"
   ]
  },
  {
   "cell_type": "markdown",
   "id": "166a7f5d-f828-4ba1-ba5b-881ca0f6c966",
   "metadata": {},
   "source": [
    "**5(b)** Play with it"
   ]
  },
  {
   "cell_type": "code",
   "execution_count": 31,
   "id": "a6f7e300-0a2c-4804-8051-2eb772d72611",
   "metadata": {},
   "outputs": [
    {
     "name": "stdout",
     "output_type": "stream",
     "text": [
      "ndim 2\n",
      "shape (3, 3)\n",
      "size 9\n",
      "itemsize 8\n",
      "data <memory at 0x0000022A54493D30>\n"
     ]
    }
   ],
   "source": [
    "print('ndim', array_obj.ndim) \n",
    "print('shape', array_obj.shape) \n",
    "print('size', array_obj.size) \n",
    "print('itemsize', array_obj.itemsize) \n",
    "print('data', array_obj.data) "
   ]
  },
  {
   "cell_type": "markdown",
   "id": "8452d51d-70e0-47eb-96be-78789259719b",
   "metadata": {},
   "source": [
    "**5(c)** Play with it"
   ]
  },
  {
   "cell_type": "code",
   "execution_count": 33,
   "id": "d15ab5ff-50f3-4d80-b4d3-1d95d7afe9d2",
   "metadata": {},
   "outputs": [
    {
     "data": {
      "text/plain": [
       "array([4, 8, 7, 6, 5, 3, 2, 9, 1])"
      ]
     },
     "execution_count": 33,
     "metadata": {},
     "output_type": "execute_result"
    }
   ],
   "source": [
    "array_obj.flatten()"
   ]
  },
  {
   "cell_type": "code",
   "execution_count": 36,
   "id": "a9861bfe-baf2-4bdf-a77b-be2b55d79a34",
   "metadata": {},
   "outputs": [],
   "source": [
    "#array_obj.reshape()"
   ]
  },
  {
   "cell_type": "code",
   "execution_count": null,
   "id": "61f38be5-19c9-46a8-b175-4de22850e7dc",
   "metadata": {},
   "outputs": [],
   "source": []
  }
 ],
 "metadata": {
  "kernelspec": {
   "display_name": "Python 3 (ipykernel)",
   "language": "python",
   "name": "python3"
  },
  "language_info": {
   "codemirror_mode": {
    "name": "ipython",
    "version": 3
   },
   "file_extension": ".py",
   "mimetype": "text/x-python",
   "name": "python",
   "nbconvert_exporter": "python",
   "pygments_lexer": "ipython3",
   "version": "3.12.4"
  }
 },
 "nbformat": 4,
 "nbformat_minor": 5
}
